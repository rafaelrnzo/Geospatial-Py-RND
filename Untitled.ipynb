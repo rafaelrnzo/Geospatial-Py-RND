{
 "cells": [
  {
   "cell_type": "code",
   "execution_count": 21,
   "id": "4f2cfe22-e939-4917-a09c-083012f2a98e",
   "metadata": {},
   "outputs": [],
   "source": [
    "from netCDF4 import Dataset\n",
    "import pandas as pd\n",
    "import numpy as np\n"
   ]
  },
  {
   "cell_type": "code",
   "execution_count": null,
   "id": "b80d7d31",
   "metadata": {},
   "outputs": [],
   "source": [
    "'''\n",
    "    if you want export to csv just rename this file var \n",
    "    file = path file you want to extract into csv\n",
    "'''\n",
    "file = r'C:\\Users\\SD-LORENZO-PC\\pyproject\\rndPy\\Geospatial\\netcdf\\data\\1964.nc'\n",
    "output = 'output_file' + '.csv'"
   ]
  },
  {
   "cell_type": "code",
   "execution_count": 23,
   "id": "d42f7c1e",
   "metadata": {},
   "outputs": [],
   "source": [
    "data = Dataset(file, mode='r') "
   ]
  },
  {
   "cell_type": "code",
   "execution_count": 24,
   "id": "5e4ea3c8",
   "metadata": {},
   "outputs": [
    {
     "name": "stdout",
     "output_type": "stream",
     "text": [
      "dict_keys(['lon', 'lat', 'time', 'tave', 'rstn'])\n"
     ]
    }
   ],
   "source": [
    "print(data.variables.keys())\n"
   ]
  },
  {
   "cell_type": "code",
   "execution_count": 25,
   "id": "6ad33ff6",
   "metadata": {},
   "outputs": [],
   "source": [
    "lons = data.variables['lon'][:]\n",
    "lats = data.variables['lat'][:]\n",
    "times = data.variables['time'][:]\n",
    "tave = data.variables['tave'][:] "
   ]
  },
  {
   "cell_type": "code",
   "execution_count": 26,
   "id": "a0c79d45",
   "metadata": {},
   "outputs": [],
   "source": [
    "lon, lat, time = np.meshgrid(lons, lats, times, indexing=\"ij\")\n",
    "df = pd.DataFrame({\n",
    "    'time': time.ravel(),\n",
    "    'latitude': lat.ravel(),\n",
    "    'longitude': lon.ravel(),\n",
    "    'temperature': tave.ravel()\n",
    "})"
   ]
  },
  {
   "cell_type": "code",
   "execution_count": null,
   "id": "32e0b8be",
   "metadata": {},
   "outputs": [],
   "source": [
    "output_file = r'C:\\Users\\SD-LORENZO-PC\\pyproject\\rndPy\\Geospatial\\netcdf\\data\\output.csv'\n",
    "df.to_csv(output_file, index=False)"
   ]
  },
  {
   "cell_type": "code",
   "execution_count": null,
   "id": "cfdce91a",
   "metadata": {},
   "outputs": [
    {
     "name": "stdout",
     "output_type": "stream",
     "text": [
      "Data saved to C:\\Users\\SD-LORENZO-PC\\pyproject\\rndPy\\Geospatial\\netcdf\\data\\output.csv\n"
     ]
    }
   ],
   "source": [
    "print(f\"Data saved to {output_file}\")"
   ]
  }
 ],
 "metadata": {
  "kernelspec": {
   "display_name": "geoDev",
   "language": "python",
   "name": "python3"
  },
  "language_info": {
   "codemirror_mode": {
    "name": "ipython",
    "version": 3
   },
   "file_extension": ".py",
   "mimetype": "text/x-python",
   "name": "python",
   "nbconvert_exporter": "python",
   "pygments_lexer": "ipython3",
   "version": "3.10.15"
  }
 },
 "nbformat": 4,
 "nbformat_minor": 5
}
