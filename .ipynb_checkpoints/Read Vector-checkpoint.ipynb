{
 "cells": [
  {
   "cell_type": "code",
   "execution_count": 9,
   "id": "b1b15a12-fdff-4cdd-a45a-3c63c0dfedfc",
   "metadata": {},
   "outputs": [],
   "source": [
    "import geopandas as gpd"
   ]
  },
  {
   "cell_type": "code",
   "execution_count": 13,
   "id": "147f1f03-51b9-4215-b581-ac40b6d4b951",
   "metadata": {},
   "outputs": [],
   "source": [
    "in_geojson = r'C:\\Users\\SD-LORENZO-PC\\pyproject\\rndPy\\Geospatial\\dataset\\data\\shp\\municipality.json'\n",
    "in_shp = r'C:\\Users\\SD-LORENZO-PC\\pyproject\\rndPy\\Geospatial\\dataset\\data\\shp\\municipality.shp'"
   ]
  },
  {
   "cell_type": "code",
   "execution_count": null,
   "id": "13a8c6fe-08b0-475d-9890-30b5dd86f184",
   "metadata": {},
   "outputs": [],
   "source": [
    "gdf = gdp.read_file(in_geojson)"
   ]
  }
 ],
 "metadata": {
  "kernelspec": {
   "display_name": "gdal",
   "language": "python",
   "name": "gdal"
  },
  "language_info": {
   "codemirror_mode": {
    "name": "ipython",
    "version": 3
   },
   "file_extension": ".py",
   "mimetype": "text/x-python",
   "name": "python",
   "nbconvert_exporter": "python",
   "pygments_lexer": "ipython3",
   "version": "3.13.0"
  }
 },
 "nbformat": 4,
 "nbformat_minor": 5
}
