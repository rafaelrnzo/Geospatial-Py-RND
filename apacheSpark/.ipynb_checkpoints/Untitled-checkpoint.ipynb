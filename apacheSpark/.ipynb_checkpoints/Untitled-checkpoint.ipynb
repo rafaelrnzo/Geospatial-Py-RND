{
 "cells": [
  {
   "cell_type": "code",
   "execution_count": 2,
   "id": "dca08c0f-3e41-4192-a67d-206171db39fb",
   "metadata": {},
   "outputs": [],
   "source": [
    "from pyspark.sql import SparkSession"
   ]
  },
  {
   "cell_type": "raw",
   "id": "6e8bf854-a620-45c9-a595-5b1178a1d393",
   "metadata": {},
   "source": []
  },
  {
   "cell_type": "code",
   "execution_count": 3,
   "id": "55e77c2a-56be-4d72-b40e-750c18285693",
   "metadata": {},
   "outputs": [],
   "source": [
    "data = [(\"Java\", \"20000\"), (\"Python\", \"100000\"), (\"Scala\", \"3000\")]\n",
    "\n",
    "# Columns\n",
    "columns = [\"language\",\"users_count\"]"
   ]
  },
  {
   "cell_type": "code",
   "execution_count": null,
   "id": "4ec5f76e-097e-4eda-8ce7-39bc4b48acd9",
   "metadata": {},
   "outputs": [],
   "source": [
    "spark = SparkSession.builder.appName('SparkByExamples.com').getOrCreate()\n",
    "\n",
    "df = spark.createDataFrame(data).toDF(*columns)\n",
    "\n",
    "df.show()"
   ]
  }
 ],
 "metadata": {
  "kernelspec": {
   "display_name": "geoDev",
   "language": "python",
   "name": "geodev"
  },
  "language_info": {
   "codemirror_mode": {
    "name": "ipython",
    "version": 3
   },
   "file_extension": ".py",
   "mimetype": "text/x-python",
   "name": "python",
   "nbconvert_exporter": "python",
   "pygments_lexer": "ipython3",
   "version": "3.10.15"
  }
 },
 "nbformat": 4,
 "nbformat_minor": 5
}
