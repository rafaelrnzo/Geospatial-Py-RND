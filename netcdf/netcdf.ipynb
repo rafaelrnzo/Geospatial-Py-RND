{
 "cells": [
  {
   "cell_type": "code",
   "execution_count": 1,
   "id": "d77b8ea3-15fd-42a0-8214-2b0bab31798f",
   "metadata": {},
   "outputs": [
    {
     "name": "stdout",
     "output_type": "stream",
     "text": [
      "Requirement already satisfied: xarray in c:\\users\\sd-lorenzo-pc\\anaconda3\\envs\\gdal\\lib\\site-packages (2024.10.0)\n",
      "Requirement already satisfied: numpy>=1.24 in c:\\users\\sd-lorenzo-pc\\anaconda3\\envs\\gdal\\lib\\site-packages (from xarray) (2.1.3)\n",
      "Requirement already satisfied: packaging>=23.1 in c:\\users\\sd-lorenzo-pc\\anaconda3\\envs\\gdal\\lib\\site-packages (from xarray) (24.1)\n",
      "Requirement already satisfied: pandas>=2.1 in c:\\users\\sd-lorenzo-pc\\anaconda3\\envs\\gdal\\lib\\site-packages (from xarray) (2.2.3)\n",
      "Requirement already satisfied: python-dateutil>=2.8.2 in c:\\users\\sd-lorenzo-pc\\anaconda3\\envs\\gdal\\lib\\site-packages (from pandas>=2.1->xarray) (2.9.0.post0)\n",
      "Requirement already satisfied: pytz>=2020.1 in c:\\users\\sd-lorenzo-pc\\anaconda3\\envs\\gdal\\lib\\site-packages (from pandas>=2.1->xarray) (2024.1)\n",
      "Requirement already satisfied: tzdata>=2022.7 in c:\\users\\sd-lorenzo-pc\\anaconda3\\envs\\gdal\\lib\\site-packages (from pandas>=2.1->xarray) (2024.2)\n",
      "Requirement already satisfied: six>=1.5 in c:\\users\\sd-lorenzo-pc\\anaconda3\\envs\\gdal\\lib\\site-packages (from python-dateutil>=2.8.2->pandas>=2.1->xarray) (1.16.0)\n"
     ]
    }
   ],
   "source": [
    "!pip install xarray"
   ]
  },
  {
   "cell_type": "code",
   "execution_count": 2,
   "id": "899caaee-c432-48b0-92c3-746247cac7e2",
   "metadata": {},
   "outputs": [],
   "source": [
    "import xarray as xr"
   ]
  },
  {
   "cell_type": "code",
   "execution_count": 3,
   "id": "906b1c76-27f9-483c-b7fd-c7d10d9e5149",
   "metadata": {},
   "outputs": [],
   "source": [
    "netcdf_file = 'https://opendap1.nodc.no/opendap/physics/point/cruise/nansen_legacy-single_profile/NMDC_Nansen-Legacy_PR_CT_58US_2021708/CTD_station_P1_NLEG01-1_-_Nansen_Legacy_Cruise_-_2021_Joint_Cruise_2-1.nc'"
   ]
  },
  {
   "cell_type": "code",
   "execution_count": 4,
   "id": "82b565fd-c195-4c32-bdb8-6d6457b3c8b4",
   "metadata": {},
   "outputs": [],
   "source": [
    "xrds = xr.open_dataset(netcdf_file)"
   ]
  },
  {
   "cell_type": "code",
   "execution_count": 5,
   "id": "8678643d-cb2b-4f29-b0ef-c2595b466179",
   "metadata": {},
   "outputs": [
    {
     "name": "stdout",
     "output_type": "stream",
     "text": [
      "CF-1.8, ACDD-1.3, OceanSITES Manual 1.4\n"
     ]
    }
   ],
   "source": [
    "print(xrds.attrs['Conventions'])"
   ]
  },
  {
   "cell_type": "code",
   "execution_count": 6,
   "id": "1ef89843-f5d5-460a-a1da-86c4b6844d34",
   "metadata": {},
   "outputs": [],
   "source": [
    "dimensions = xrds.dims\n",
    "coords = xrds.coords"
   ]
  },
  {
   "cell_type": "code",
   "execution_count": 7,
   "id": "7129b93d-74c9-4d76-87fa-255824482727",
   "metadata": {},
   "outputs": [
    {
     "name": "stdout",
     "output_type": "stream",
     "text": [
      "Coordinates:\n",
      "  * PRES     (PRES) float32 1kB 1.0 2.0 3.0 4.0 5.0 ... 317.0 318.0 319.0 320.0\n"
     ]
    }
   ],
   "source": [
    "print(coords)"
   ]
  },
  {
   "cell_type": "code",
   "execution_count": 8,
   "id": "b129692f-afe9-4691-a497-87ff56e5a3da",
   "metadata": {},
   "outputs": [],
   "source": [
    "temperature = xrds.data_vars['TEMP'].values"
   ]
  },
  {
   "cell_type": "code",
   "execution_count": 9,
   "id": "0d4ac6e5-91f3-4672-86cb-96a5936a5d07",
   "metadata": {},
   "outputs": [
    {
     "name": "stdout",
     "output_type": "stream",
     "text": [
      "[3.735 3.738 3.739 3.741 3.736 3.737 3.736 3.742 3.736 3.738 3.783 3.833\n",
      " 3.838 3.837 3.83  3.806 3.792 3.79  3.814 3.846 3.858 3.833 3.815 3.817\n",
      " 3.814 3.812 3.792 3.709 3.704 3.642 3.582 3.546 3.512 3.484 3.368 3.297\n",
      " 3.165 3.106 3.094 3.094 3.102 3.079 3.094 3.076 3.035 3.009 2.992 2.981\n",
      " 2.954 2.933 2.903 2.874 2.85  2.824 2.801 2.787 2.764 2.713 2.711 2.705\n",
      " 2.701 2.696 2.682 2.665 2.651 2.647 2.642 2.635 2.624 2.588 2.604 2.608\n",
      " 2.593 2.507 2.472 2.468 2.46  2.453 2.441 2.43  2.431 2.43  2.431 2.433\n",
      " 2.43  2.417 2.394 2.382 2.361 2.335 2.32  2.303 2.275 2.267 2.263 2.277\n",
      " 2.27  2.265 2.262 2.256 2.241 2.216 2.201 2.191 2.176 2.135 2.11  2.091\n",
      " 2.071 2.064 2.103 2.106 2.099 2.095 2.092 2.088 2.082 2.085 2.093 2.09\n",
      " 2.089 2.085 2.054 2.022 2.019 2.021 2.026 2.027 2.036 2.041 2.06  2.082\n",
      " 2.084 2.087 2.093 2.097 2.099 2.098 2.1   2.101 2.099 2.095 2.094 2.094\n",
      " 2.102 2.101 2.095 2.082 2.078 2.076 2.076 2.072 2.066 2.064 2.063 2.065\n",
      " 2.065 2.063 2.058 2.041 2.032 2.028 2.027 2.026 2.022 2.013 2.01  2.009\n",
      " 2.007 2.002 1.998 1.994 1.99  1.986 1.979 1.974 1.971 1.968 1.966 1.962\n",
      " 1.957 1.945 1.933 1.924 1.919 1.916 1.907 1.9   1.893 1.887 1.883 1.881\n",
      " 1.879 1.876 1.873 1.868 1.866 1.863 1.858 1.853 1.851 1.848 1.847 1.847\n",
      " 1.846 1.845 1.845 1.844 1.844 1.843 1.843 1.842 1.842 1.84  1.837 1.834\n",
      " 1.832 1.83  1.823 1.82  1.818 1.815 1.808 1.804 1.798 1.794 1.792 1.79\n",
      " 1.789 1.788 1.787 1.783 1.779 1.776 1.772 1.77  1.767 1.763 1.761 1.757\n",
      " 1.751 1.744 1.74  1.739 1.736 1.731 1.727 1.723 1.72  1.715 1.702 1.693\n",
      " 1.694 1.693 1.691 1.685 1.673 1.667 1.663 1.662 1.662 1.661 1.657 1.648\n",
      " 1.644 1.642 1.628 1.622 1.619 1.613 1.61  1.597 1.59  1.587 1.585 1.581\n",
      " 1.576 1.567 1.564 1.558 1.54  1.531 1.525 1.523 1.516 1.512 1.507 1.504\n",
      " 1.503 1.496 1.469 1.442 1.431 1.408 1.385 1.361 1.332 1.319 1.303 1.297\n",
      " 1.295 1.29  1.286 1.287 1.286 1.286 1.286 1.287 1.287 1.286 1.287 1.287\n",
      " 1.288 1.288 1.287 1.287 1.287 1.287 1.287 1.287]\n"
     ]
    }
   ],
   "source": [
    "print(temperature)"
   ]
  },
  {
   "cell_type": "code",
   "execution_count": 10,
   "id": "8820f0d4-1944-40be-b4f1-a0b446ba64cf",
   "metadata": {},
   "outputs": [],
   "source": [
    "temp_var_attributes = xrds.data_vars['TEMP'].attrs['standard_name']"
   ]
  },
  {
   "cell_type": "code",
   "execution_count": 11,
   "id": "415bd7b5-1b4e-4ef9-8dc5-22e0914b1d88",
   "metadata": {},
   "outputs": [
    {
     "name": "stdout",
     "output_type": "stream",
     "text": [
      "sea_water_temperature\n"
     ]
    }
   ],
   "source": [
    "print(temp_var_attributes)"
   ]
  },
  {
   "cell_type": "markdown",
   "id": "36a22dd1-437d-47b4-93d8-a924570acb90",
   "metadata": {},
   "source": [
    "---"
   ]
  },
  {
   "cell_type": "code",
   "execution_count": 12,
   "id": "262159e3-8503-4f54-8af1-34ef71b4a58e",
   "metadata": {},
   "outputs": [],
   "source": [
    "import matplotlib.pyplot as plt\n",
    "import xarray as xr"
   ]
  },
  {
   "cell_type": "code",
   "execution_count": 13,
   "id": "9a258bca-fc83-40de-b2c9-74d0b3c111d2",
   "metadata": {},
   "outputs": [
    {
     "ename": "KeyError",
     "evalue": "\"No variable named 'CHLOROPHYLL_A_TOTAL'. Variables on the dataset include ['PRES', 'PRES_QC', 'TEMP', 'PSAL', 'FLU2', ..., 'SPAR_QC', 'PAR_QC', 'PSAL-2_QC', 'TEMP-2_QC', 'ATTNZS01_QC']\"",
     "output_type": "error",
     "traceback": [
      "\u001b[1;31m---------------------------------------------------------------------------\u001b[0m",
      "\u001b[1;31mKeyError\u001b[0m                                  Traceback (most recent call last)",
      "\u001b[1;32mc:\\Users\\SD-LORENZO-PC\\anaconda3\\envs\\gdal\\Lib\\site-packages\\xarray\\core\\dataset.py\u001b[0m in \u001b[0;36m?\u001b[1;34m(self, name)\u001b[0m\n\u001b[0;32m   1485\u001b[0m             \u001b[0mvariable\u001b[0m \u001b[1;33m=\u001b[0m \u001b[0mself\u001b[0m\u001b[1;33m.\u001b[0m\u001b[0m_variables\u001b[0m\u001b[1;33m[\u001b[0m\u001b[0mname\u001b[0m\u001b[1;33m]\u001b[0m\u001b[1;33m\u001b[0m\u001b[1;33m\u001b[0m\u001b[0m\n\u001b[0;32m   1486\u001b[0m         \u001b[1;32mexcept\u001b[0m \u001b[0mKeyError\u001b[0m\u001b[1;33m:\u001b[0m\u001b[1;33m\u001b[0m\u001b[1;33m\u001b[0m\u001b[0m\n\u001b[1;32m-> 1487\u001b[1;33m             \u001b[0m_\u001b[0m\u001b[1;33m,\u001b[0m \u001b[0mname\u001b[0m\u001b[1;33m,\u001b[0m \u001b[0mvariable\u001b[0m \u001b[1;33m=\u001b[0m \u001b[0m_get_virtual_variable\u001b[0m\u001b[1;33m(\u001b[0m\u001b[0mself\u001b[0m\u001b[1;33m.\u001b[0m\u001b[0m_variables\u001b[0m\u001b[1;33m,\u001b[0m \u001b[0mname\u001b[0m\u001b[1;33m,\u001b[0m \u001b[0mself\u001b[0m\u001b[1;33m.\u001b[0m\u001b[0msizes\u001b[0m\u001b[1;33m)\u001b[0m\u001b[1;33m\u001b[0m\u001b[1;33m\u001b[0m\u001b[0m\n\u001b[0m\u001b[0;32m   1488\u001b[0m \u001b[1;33m\u001b[0m\u001b[0m\n",
      "\u001b[1;31mKeyError\u001b[0m: 'CHLOROPHYLL_A_TOTAL'",
      "\nDuring handling of the above exception, another exception occurred:\n",
      "\u001b[1;31mKeyError\u001b[0m                                  Traceback (most recent call last)",
      "\u001b[1;32mc:\\Users\\SD-LORENZO-PC\\anaconda3\\envs\\gdal\\Lib\\site-packages\\xarray\\core\\dataset.py\u001b[0m in \u001b[0;36m?\u001b[1;34m(self, key)\u001b[0m\n\u001b[0;32m   1588\u001b[0m                 \u001b[1;32mif\u001b[0m \u001b[0misinstance\u001b[0m\u001b[1;33m(\u001b[0m\u001b[0mkey\u001b[0m\u001b[1;33m,\u001b[0m \u001b[0mtuple\u001b[0m\u001b[1;33m)\u001b[0m\u001b[1;33m:\u001b[0m\u001b[1;33m\u001b[0m\u001b[1;33m\u001b[0m\u001b[0m\n\u001b[0;32m   1589\u001b[0m                     \u001b[0mmessage\u001b[0m \u001b[1;33m+=\u001b[0m \u001b[1;33mf\"\u001b[0m\u001b[1;33m\\nHint: use a list to select multiple variables, for example `ds[\u001b[0m\u001b[1;33m{\u001b[0m\u001b[1;33m[\u001b[0m\u001b[0md\u001b[0m \u001b[1;32mfor\u001b[0m \u001b[0md\u001b[0m \u001b[1;32min\u001b[0m \u001b[0mkey\u001b[0m\u001b[1;33m]\u001b[0m\u001b[1;33m}\u001b[0m\u001b[1;33m]`\u001b[0m\u001b[1;33m\"\u001b[0m\u001b[1;33m\u001b[0m\u001b[1;33m\u001b[0m\u001b[0m\n\u001b[1;32m-> 1590\u001b[1;33m                 \u001b[1;32mraise\u001b[0m \u001b[0mKeyError\u001b[0m\u001b[1;33m(\u001b[0m\u001b[0mmessage\u001b[0m\u001b[1;33m)\u001b[0m \u001b[1;32mfrom\u001b[0m \u001b[0me\u001b[0m\u001b[1;33m\u001b[0m\u001b[1;33m\u001b[0m\u001b[0m\n\u001b[0m\u001b[0;32m   1591\u001b[0m \u001b[1;33m\u001b[0m\u001b[0m\n",
      "\u001b[1;32mc:\\Users\\SD-LORENZO-PC\\anaconda3\\envs\\gdal\\Lib\\site-packages\\xarray\\core\\dataset.py\u001b[0m in \u001b[0;36m?\u001b[1;34m(self, name)\u001b[0m\n\u001b[0;32m   1485\u001b[0m             \u001b[0mvariable\u001b[0m \u001b[1;33m=\u001b[0m \u001b[0mself\u001b[0m\u001b[1;33m.\u001b[0m\u001b[0m_variables\u001b[0m\u001b[1;33m[\u001b[0m\u001b[0mname\u001b[0m\u001b[1;33m]\u001b[0m\u001b[1;33m\u001b[0m\u001b[1;33m\u001b[0m\u001b[0m\n\u001b[0;32m   1486\u001b[0m         \u001b[1;32mexcept\u001b[0m \u001b[0mKeyError\u001b[0m\u001b[1;33m:\u001b[0m\u001b[1;33m\u001b[0m\u001b[1;33m\u001b[0m\u001b[0m\n\u001b[1;32m-> 1487\u001b[1;33m             \u001b[0m_\u001b[0m\u001b[1;33m,\u001b[0m \u001b[0mname\u001b[0m\u001b[1;33m,\u001b[0m \u001b[0mvariable\u001b[0m \u001b[1;33m=\u001b[0m \u001b[0m_get_virtual_variable\u001b[0m\u001b[1;33m(\u001b[0m\u001b[0mself\u001b[0m\u001b[1;33m.\u001b[0m\u001b[0m_variables\u001b[0m\u001b[1;33m,\u001b[0m \u001b[0mname\u001b[0m\u001b[1;33m,\u001b[0m \u001b[0mself\u001b[0m\u001b[1;33m.\u001b[0m\u001b[0msizes\u001b[0m\u001b[1;33m)\u001b[0m\u001b[1;33m\u001b[0m\u001b[1;33m\u001b[0m\u001b[0m\n\u001b[0m\u001b[0;32m   1488\u001b[0m \u001b[1;33m\u001b[0m\u001b[0m\n",
      "\u001b[1;32mc:\\Users\\SD-LORENZO-PC\\anaconda3\\envs\\gdal\\Lib\\site-packages\\xarray\\core\\dataset.py\u001b[0m in \u001b[0;36m?\u001b[1;34m(variables, key, dim_sizes)\u001b[0m\n\u001b[0;32m    217\u001b[0m     \u001b[0msplit_key\u001b[0m \u001b[1;33m=\u001b[0m \u001b[0mkey\u001b[0m\u001b[1;33m.\u001b[0m\u001b[0msplit\u001b[0m\u001b[1;33m(\u001b[0m\u001b[1;34m\".\"\u001b[0m\u001b[1;33m,\u001b[0m \u001b[1;36m1\u001b[0m\u001b[1;33m)\u001b[0m\u001b[1;33m\u001b[0m\u001b[1;33m\u001b[0m\u001b[0m\n\u001b[0;32m    218\u001b[0m     \u001b[1;32mif\u001b[0m \u001b[0mlen\u001b[0m\u001b[1;33m(\u001b[0m\u001b[0msplit_key\u001b[0m\u001b[1;33m)\u001b[0m \u001b[1;33m!=\u001b[0m \u001b[1;36m2\u001b[0m\u001b[1;33m:\u001b[0m\u001b[1;33m\u001b[0m\u001b[1;33m\u001b[0m\u001b[0m\n\u001b[1;32m--> 219\u001b[1;33m         \u001b[1;32mraise\u001b[0m \u001b[0mKeyError\u001b[0m\u001b[1;33m(\u001b[0m\u001b[0mkey\u001b[0m\u001b[1;33m)\u001b[0m\u001b[1;33m\u001b[0m\u001b[1;33m\u001b[0m\u001b[0m\n\u001b[0m\u001b[0;32m    220\u001b[0m \u001b[1;33m\u001b[0m\u001b[0m\n",
      "\u001b[1;31mKeyError\u001b[0m: 'CHLOROPHYLL_A_TOTAL'",
      "\nThe above exception was the direct cause of the following exception:\n",
      "\u001b[1;31mKeyError\u001b[0m                                  Traceback (most recent call last)",
      "\u001b[1;32m~\\AppData\\Local\\Temp\\ipykernel_22608\\4058108305.py\u001b[0m in \u001b[0;36m?\u001b[1;34m()\u001b[0m\n\u001b[0;32m      1\u001b[0m \u001b[0murl\u001b[0m \u001b[1;33m=\u001b[0m \u001b[1;34m'https://opendap1.nodc.no/opendap/physics/point/cruise/nansen_legacy-single_profile/NMDC_Nansen-Legacy_PR_CT_58US_2021708/CTD_station_P1_NLEG01-1_-_Nansen_Legacy_Cruise_-_2021_Joint_Cruise_2-1.nc'\u001b[0m\u001b[1;33m\u001b[0m\u001b[1;33m\u001b[0m\u001b[0m\n\u001b[0;32m      2\u001b[0m \u001b[0mxrds\u001b[0m \u001b[1;33m=\u001b[0m \u001b[0mxr\u001b[0m\u001b[1;33m.\u001b[0m\u001b[0mopen_dataset\u001b[0m\u001b[1;33m(\u001b[0m\u001b[0murl\u001b[0m\u001b[1;33m)\u001b[0m\u001b[1;33m\u001b[0m\u001b[1;33m\u001b[0m\u001b[0m\n\u001b[0;32m      3\u001b[0m \u001b[1;33m\u001b[0m\u001b[0m\n\u001b[1;32m----> 4\u001b[1;33m \u001b[0mxr\u001b[0m\u001b[1;33m.\u001b[0m\u001b[0mplot\u001b[0m\u001b[1;33m.\u001b[0m\u001b[0mline\u001b[0m\u001b[1;33m(\u001b[0m\u001b[0mxrds\u001b[0m\u001b[1;33m[\u001b[0m\u001b[1;34m'CHLOROPHYLL_A_TOTAL'\u001b[0m\u001b[1;33m]\u001b[0m\u001b[1;33m.\u001b[0m\u001b[0mdropna\u001b[0m\u001b[1;33m(\u001b[0m\u001b[1;34m'DEPTH'\u001b[0m\u001b[1;33m)\u001b[0m\u001b[1;33m)\u001b[0m\u001b[1;33m\u001b[0m\u001b[1;33m\u001b[0m\u001b[0m\n\u001b[0m\u001b[0;32m      5\u001b[0m \u001b[0mplt\u001b[0m\u001b[1;33m.\u001b[0m\u001b[0mshow\u001b[0m\u001b[1;33m(\u001b[0m\u001b[1;33m)\u001b[0m\u001b[1;33m\u001b[0m\u001b[1;33m\u001b[0m\u001b[0m\n",
      "\u001b[1;32mc:\\Users\\SD-LORENZO-PC\\anaconda3\\envs\\gdal\\Lib\\site-packages\\xarray\\core\\dataset.py\u001b[0m in \u001b[0;36m?\u001b[1;34m(self, key)\u001b[0m\n\u001b[0;32m   1586\u001b[0m                 \u001b[0mmessage\u001b[0m \u001b[1;33m=\u001b[0m \u001b[1;33mf\"\u001b[0m\u001b[1;33mNo variable named \u001b[0m\u001b[1;33m{\u001b[0m\u001b[0mkey\u001b[0m\u001b[1;33m!\u001b[0m\u001b[0mr\u001b[0m\u001b[1;33m}\u001b[0m\u001b[1;33m. Variables on the dataset include \u001b[0m\u001b[1;33m{\u001b[0m\u001b[0mshorten_list_repr\u001b[0m\u001b[1;33m(\u001b[0m\u001b[0mlist\u001b[0m\u001b[1;33m(\u001b[0m\u001b[0mself\u001b[0m\u001b[1;33m.\u001b[0m\u001b[0mvariables\u001b[0m\u001b[1;33m.\u001b[0m\u001b[0mkeys\u001b[0m\u001b[1;33m(\u001b[0m\u001b[1;33m)\u001b[0m\u001b[1;33m)\u001b[0m\u001b[1;33m,\u001b[0m \u001b[0mmax_items\u001b[0m\u001b[1;33m=\u001b[0m\u001b[1;36m10\u001b[0m\u001b[1;33m)\u001b[0m\u001b[1;33m}\u001b[0m\u001b[1;33m\"\u001b[0m\u001b[1;33m\u001b[0m\u001b[1;33m\u001b[0m\u001b[0m\n\u001b[0;32m   1587\u001b[0m                 \u001b[1;31m# If someone attempts `ds['foo' , 'bar']` instead of `ds[['foo', 'bar']]`\u001b[0m\u001b[1;33m\u001b[0m\u001b[1;33m\u001b[0m\u001b[0m\n\u001b[0;32m   1588\u001b[0m                 \u001b[1;32mif\u001b[0m \u001b[0misinstance\u001b[0m\u001b[1;33m(\u001b[0m\u001b[0mkey\u001b[0m\u001b[1;33m,\u001b[0m \u001b[0mtuple\u001b[0m\u001b[1;33m)\u001b[0m\u001b[1;33m:\u001b[0m\u001b[1;33m\u001b[0m\u001b[1;33m\u001b[0m\u001b[0m\n\u001b[0;32m   1589\u001b[0m                     \u001b[0mmessage\u001b[0m \u001b[1;33m+=\u001b[0m \u001b[1;33mf\"\u001b[0m\u001b[1;33m\\nHint: use a list to select multiple variables, for example `ds[\u001b[0m\u001b[1;33m{\u001b[0m\u001b[1;33m[\u001b[0m\u001b[0md\u001b[0m \u001b[1;32mfor\u001b[0m \u001b[0md\u001b[0m \u001b[1;32min\u001b[0m \u001b[0mkey\u001b[0m\u001b[1;33m]\u001b[0m\u001b[1;33m}\u001b[0m\u001b[1;33m]`\u001b[0m\u001b[1;33m\"\u001b[0m\u001b[1;33m\u001b[0m\u001b[1;33m\u001b[0m\u001b[0m\n\u001b[1;32m-> 1590\u001b[1;33m                 \u001b[1;32mraise\u001b[0m \u001b[0mKeyError\u001b[0m\u001b[1;33m(\u001b[0m\u001b[0mmessage\u001b[0m\u001b[1;33m)\u001b[0m \u001b[1;32mfrom\u001b[0m \u001b[0me\u001b[0m\u001b[1;33m\u001b[0m\u001b[1;33m\u001b[0m\u001b[0m\n\u001b[0m\u001b[0;32m   1591\u001b[0m \u001b[1;33m\u001b[0m\u001b[0m\n\u001b[0;32m   1592\u001b[0m         \u001b[1;32mif\u001b[0m \u001b[0mutils\u001b[0m\u001b[1;33m.\u001b[0m\u001b[0miterable_of_hashable\u001b[0m\u001b[1;33m(\u001b[0m\u001b[0mkey\u001b[0m\u001b[1;33m)\u001b[0m\u001b[1;33m:\u001b[0m\u001b[1;33m\u001b[0m\u001b[1;33m\u001b[0m\u001b[0m\n\u001b[0;32m   1593\u001b[0m             \u001b[1;32mreturn\u001b[0m \u001b[0mself\u001b[0m\u001b[1;33m.\u001b[0m\u001b[0m_copy_listed\u001b[0m\u001b[1;33m(\u001b[0m\u001b[0mkey\u001b[0m\u001b[1;33m)\u001b[0m\u001b[1;33m\u001b[0m\u001b[1;33m\u001b[0m\u001b[0m\n",
      "\u001b[1;31mKeyError\u001b[0m: \"No variable named 'CHLOROPHYLL_A_TOTAL'. Variables on the dataset include ['PRES', 'PRES_QC', 'TEMP', 'PSAL', 'FLU2', ..., 'SPAR_QC', 'PAR_QC', 'PSAL-2_QC', 'TEMP-2_QC', 'ATTNZS01_QC']\""
     ]
    }
   ],
   "source": [
    "url = 'https://opendap1.nodc.no/opendap/physics/point/cruise/nansen_legacy-single_profile/NMDC_Nansen-Legacy_PR_CT_58US_2021708/CTD_station_P1_NLEG01-1_-_Nansen_Legacy_Cruise_-_2021_Joint_Cruise_2-1.nc'\n",
    "xrds = xr.open_dataset(url)\n",
    "\n",
    "xr.plot.line(xrds['CHLOROPHYLL_A_TOTAL'].dropna('DEPTH'))\n",
    "plt.show()"
   ]
  }
 ],
 "metadata": {
  "kernelspec": {
   "display_name": "gdal",
   "language": "python",
   "name": "gdal"
  },
  "language_info": {
   "codemirror_mode": {
    "name": "ipython",
    "version": 3
   },
   "file_extension": ".py",
   "mimetype": "text/x-python",
   "name": "python",
   "nbconvert_exporter": "python",
   "pygments_lexer": "ipython3",
   "version": "3.13.0"
  }
 },
 "nbformat": 4,
 "nbformat_minor": 5
}
